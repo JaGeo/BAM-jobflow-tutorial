{
 "cells": [
  {
   "cell_type": "markdown",
   "id": "20fe3fd2-f037-4e65-a467-88757a4b2efc",
   "metadata": {},
   "source": [
    "# Jobflow hands-on\n",
    "\n",
    "Jobflow is a free, open-source library for writing and executing workflows. Complex workflows can be defined using simple python functions and executed **locally** or on arbitrary computing resources using the [jobflow-remote](https://matgenix.github.io/jobflow-remote/) or [FireWorks](https://materialsproject.github.io/fireworks/) workflow managers.\n",
    "\n",
    "In this hands-on, we will only execute the workflows locally. In subsequent sessions, jobflow-remote will be presented and used for the execution of the workflows.\n",
    "\n",
    "Topics covered in this session:\n",
    "- The @job decorator and the Job object\n",
    "- Local execution with run_locally\n",
    "- Creating flows\n",
    "- Dynamic workflows\n",
    "- Concept of Makers\n",
    "\n",
    "In addition to these general topics, a series of <font color=\"green\">**DO**</font>'s and <font color=\"red\">**DONT**</font>'s or common errors will be (on purpose) shown in this session."
   ]
  },
  {
   "cell_type": "markdown",
   "id": "bef3e18a-0458-4b24-a98f-47825cf37bb3",
   "metadata": {},
   "source": [
    "## The @job decorator and the Job object\n",
    "\n",
    "Let's define a (very) simple function that adds two numbers:"
   ]
  },
  {
   "cell_type": "code",
   "id": "ec69526f-120c-44b2-b2ea-0c45afc3076b",
   "metadata": {
    "ExecuteTime": {
     "end_time": "2025-07-11T06:30:10.411844Z",
     "start_time": "2025-07-11T06:30:10.405257Z"
    }
   },
   "source": [
    "def add(a, b):\n",
    "    return a+b\n",
    "\n",
    "result = add(2, 5)\n",
    "print(result)"
   ],
   "outputs": [
    {
     "name": "stdout",
     "output_type": "stream",
     "text": [
      "7\n"
     ]
    }
   ],
   "execution_count": 1
  },
  {
   "cell_type": "markdown",
   "id": "5f08eba8-fbff-4d44-80da-2730fe55ea0e",
   "metadata": {},
   "source": [
    "The output is simply the sum of the two numbers. Now let's use the @job decorator for this function:"
   ]
  },
  {
   "cell_type": "code",
   "id": "135d300a-58f2-4b58-abad-21834d116ea2",
   "metadata": {
    "ExecuteTime": {
     "end_time": "2025-07-11T06:30:11.005709Z",
     "start_time": "2025-07-11T06:30:10.556082Z"
    }
   },
   "source": [
    "from jobflow import job\n",
    "\n",
    "@job\n",
    "def add(a, b):\n",
    "    return a+b\n",
    "\n",
    "add_job = add(2, 5)\n",
    "print(add_job)"
   ],
   "outputs": [
    {
     "name": "stdout",
     "output_type": "stream",
     "text": [
      "Job(name='add', uuid='43a2d3c4-460e-4e5b-aca9-12e338d6f505')\n"
     ]
    },
    {
     "name": "stderr",
     "output_type": "stream",
     "text": [
      "/home/jgeorge/miniconda3/envs/2025-bam-jobflow-tutorial/lib/python3.10/site-packages/tqdm/auto.py:21: TqdmWarning: IProgress not found. Please update jupyter and ipywidgets. See https://ipywidgets.readthedocs.io/en/stable/user_install.html\n",
      "  from .autonotebook import tqdm as notebook_tqdm\n"
     ]
    }
   ],
   "execution_count": 2
  },
  {
   "cell_type": "markdown",
   "id": "558603ce-b185-4798-8941-5797f923c584",
   "metadata": {},
   "source": [
    "The function add now return a Job object. The sum of the two numbers has not yet been executed. The execution is deferred to a later time, i.e. either when we execute it locally or when a workflow manager executes it (after its submission). The deferred output can be accessed through the output attribute of the job. This output attribute contains an OutputReference, which is a \"link\" to the job output (or an attribute, item, subitem, ... of this output - more about this later!).\n",
    "\n",
    "A Job object has a unique identifier (uuid) and an index. The uuid is automatically assigned when the job is created. The index is by default 1 when the job is first created. We will see later on when (as well as why and how) this index can change."
   ]
  },
  {
   "cell_type": "code",
   "id": "362ae348-e05a-49c6-9f5f-591ac8c1869e",
   "metadata": {
    "ExecuteTime": {
     "end_time": "2025-07-11T06:30:11.025049Z",
     "start_time": "2025-07-11T06:30:11.022180Z"
    }
   },
   "source": [
    "print(add_job.uuid)   # This uniquely identifies a Job\n",
    "print(add_job.index)  # This is the index of a given Job (two or more jobs can have the same uuid but different - increasing - index's)\n",
    "print(add_job.output) # OutputReference - Link to this job output"
   ],
   "outputs": [
    {
     "name": "stdout",
     "output_type": "stream",
     "text": [
      "43a2d3c4-460e-4e5b-aca9-12e338d6f505\n",
      "1\n",
      "OutputReference(43a2d3c4-460e-4e5b-aca9-12e338d6f505)\n"
     ]
    }
   ],
   "execution_count": 3
  },
  {
   "cell_type": "markdown",
   "id": "f5ba3673-7872-4c77-a0e6-4d0bd9029c2d",
   "metadata": {},
   "source": [
    "<font color=\"red\">**DONT**</font> Be careful with namespaces. Users might be tempted here to name the resulting job as \"job\":"
   ]
  },
  {
   "cell_type": "code",
   "id": "e16393f7-eb41-4e75-9590-e35546262cae",
   "metadata": {
    "ExecuteTime": {
     "end_time": "2025-07-11T06:30:11.075019Z",
     "start_time": "2025-07-11T06:30:11.072585Z"
    }
   },
   "source": [
    "job = add(5, 10)"
   ],
   "outputs": [],
   "execution_count": 4
  },
  {
   "cell_type": "markdown",
   "id": "7ee8922b-8d87-49d9-a45e-029e9ea78767",
   "metadata": {},
   "source": [
    "Now you can't decorate another function because \"job\" has been redefined..."
   ]
  },
  {
   "cell_type": "code",
   "id": "b85ee500-f7f1-48c9-86b2-eb191f465f29",
   "metadata": {
    "ExecuteTime": {
     "end_time": "2025-07-11T06:30:11.340847Z",
     "start_time": "2025-07-11T06:30:11.120954Z"
    }
   },
   "source": [
    "@job\n",
    "def somefunction(x):\n",
    "    return x"
   ],
   "outputs": [
    {
     "ename": "TypeError",
     "evalue": "'Job' object is not callable",
     "output_type": "error",
     "traceback": [
      "\u001B[0;31m---------------------------------------------------------------------------\u001B[0m",
      "\u001B[0;31mTypeError\u001B[0m                                 Traceback (most recent call last)",
      "Cell \u001B[0;32mIn[5], line 2\u001B[0m\n\u001B[1;32m      1\u001B[0m \u001B[38;5;129;43m@job\u001B[39;49m\n\u001B[0;32m----> 2\u001B[0m \u001B[38;5;28;43;01mdef\u001B[39;49;00m\u001B[38;5;250;43m \u001B[39;49m\u001B[38;5;21;43msomefunction\u001B[39;49m\u001B[43m(\u001B[49m\u001B[43mx\u001B[49m\u001B[43m)\u001B[49m\u001B[43m:\u001B[49m\n\u001B[1;32m      3\u001B[0m \u001B[43m    \u001B[49m\u001B[38;5;28;43;01mreturn\u001B[39;49;00m\u001B[43m \u001B[49m\u001B[43mx\u001B[49m\n",
      "\u001B[0;31mTypeError\u001B[0m: 'Job' object is not callable"
     ]
    }
   ],
   "execution_count": 5
  },
  {
   "cell_type": "markdown",
   "id": "2ff0d3ba-4708-474d-afaf-9c17c262b1fd",
   "metadata": {},
   "source": [
    "## Local execution with run_locally\n",
    "Let's now reimport job here and recreate some jobs to be executed!"
   ]
  },
  {
   "cell_type": "code",
   "id": "a13f56de-0595-44b3-80f6-03ef3d9992ac",
   "metadata": {
    "ExecuteTime": {
     "end_time": "2025-07-11T06:30:24.423795Z",
     "start_time": "2025-07-11T06:30:24.419589Z"
    }
   },
   "source": [
    "from jobflow import job, run_locally\n",
    "\n",
    "@job\n",
    "def add(a, b):\n",
    "    return a+b"
   ],
   "outputs": [],
   "execution_count": 6
  },
  {
   "cell_type": "markdown",
   "id": "d9f7c12f-9ee5-4a97-82a4-7729d2eb3247",
   "metadata": {},
   "source": [
    "Let's create one job and run it locally!"
   ]
  },
  {
   "cell_type": "code",
   "id": "d206da92-1688-4016-bf15-ff144b5fda2e",
   "metadata": {
    "ExecuteTime": {
     "end_time": "2025-07-11T06:30:31.365026Z",
     "start_time": "2025-07-11T06:30:30.996019Z"
    }
   },
   "source": [
    "add_job = add(2, 3)\n",
    "output = run_locally(add_job)"
   ],
   "outputs": [
    {
     "name": "stdout",
     "output_type": "stream",
     "text": [
      "2025-07-11 08:30:30,999 INFO Started executing jobs locally\n",
      "2025-07-11 08:30:31,359 INFO Starting job - add (01c15117-d972-4458-b4ce-c167b7f0783a)\n",
      "2025-07-11 08:30:31,362 INFO Finished job - add (01c15117-d972-4458-b4ce-c167b7f0783a)\n",
      "2025-07-11 08:30:31,362 INFO Finished executing jobs locally\n"
     ]
    }
   ],
   "execution_count": 7
  },
  {
   "cell_type": "markdown",
   "id": "d88b8ea6-6471-4c44-976f-b516fa59988e",
   "metadata": {},
   "source": [
    "We some logging about the job starting and finishing.\n",
    "\n",
    "And now look at the output. We are using pprint here to get a nicely printed output."
   ]
  },
  {
   "cell_type": "code",
   "id": "e7ca9caa-eadc-4c4a-82bc-5f877e6c619c",
   "metadata": {
    "ExecuteTime": {
     "end_time": "2025-07-11T06:30:37.468321Z",
     "start_time": "2025-07-11T06:30:37.464055Z"
    }
   },
   "source": [
    "import pprint\n",
    "pprint.pprint(output)"
   ],
   "outputs": [
    {
     "name": "stdout",
     "output_type": "stream",
     "text": [
      "{'01c15117-d972-4458-b4ce-c167b7f0783a': {1: Response(output=5,\n",
      "                                                      detour=None,\n",
      "                                                      addition=None,\n",
      "                                                      replace=None,\n",
      "                                                      stored_data=None,\n",
      "                                                      stop_children=False,\n",
      "                                                      stop_jobflow=False,\n",
      "                                                      job_dir=PosixPath('/smb/jgeorge/hpc-user/PycharmProjects/2025-bam-jobflow-tutorial/BAM-jobflow-tutorial'))}}\n"
     ]
    }
   ],
   "execution_count": 8
  },
  {
   "cell_type": "markdown",
   "id": "40d0ca57-2188-4d44-8a7a-4add06979a05",
   "metadata": {},
   "source": [
    "What do we have in here ?\n",
    "- A dictionary with the uuid of the job as a key\n",
    "- The value for that key is another dictionary\n",
    "- This other dictionary has the index of the job as a key\n",
    "- The value for that index key is a Response object\n",
    "- The Response object contains\n",
    "  - The output of the original add function (i.e. the sum of the two numbers - here 2 + 3 = ... drumroll ... 5)\n",
    "  - Other stuff (see later)\n",
    "\n",
    "<font color=\"red\">**DONT**</font> run the same job twice."
   ]
  },
  {
   "cell_type": "code",
   "id": "468c4370-a3ac-4bfd-bf44-9aa3be687694",
   "metadata": {
    "ExecuteTime": {
     "end_time": "2025-07-11T06:30:44.487616Z",
     "start_time": "2025-07-11T06:30:44.388979Z"
    }
   },
   "source": [
    "run_locally(add_job)"
   ],
   "outputs": [
    {
     "ename": "ValueError",
     "evalue": "Job add (01c15117-d972-4458-b4ce-c167b7f0783a) already belongs to another flow.",
     "output_type": "error",
     "traceback": [
      "\u001B[0;31m---------------------------------------------------------------------------\u001B[0m",
      "\u001B[0;31mValueError\u001B[0m                                Traceback (most recent call last)",
      "Cell \u001B[0;32mIn[9], line 1\u001B[0m\n\u001B[0;32m----> 1\u001B[0m \u001B[43mrun_locally\u001B[49m\u001B[43m(\u001B[49m\u001B[43madd_job\u001B[49m\u001B[43m)\u001B[49m\n",
      "File \u001B[0;32m~/miniconda3/envs/2025-bam-jobflow-tutorial/lib/python3.10/site-packages/jobflow/managers/local.py:85\u001B[0m, in \u001B[0;36mrun_locally\u001B[0;34m(flow, log, store, create_folders, root_dir, ensure_success, allow_external_references, raise_immediately)\u001B[0m\n\u001B[1;32m     82\u001B[0m \u001B[38;5;28;01mif\u001B[39;00m log:\n\u001B[1;32m     83\u001B[0m     initialize_logger(fmt\u001B[38;5;241m=\u001B[39mlog \u001B[38;5;28;01mif\u001B[39;00m \u001B[38;5;28misinstance\u001B[39m(log, \u001B[38;5;28mstr\u001B[39m) \u001B[38;5;28;01melse\u001B[39;00m \u001B[38;5;124m\"\u001B[39m\u001B[38;5;124m\"\u001B[39m)\n\u001B[0;32m---> 85\u001B[0m flow \u001B[38;5;241m=\u001B[39m \u001B[43mget_flow\u001B[49m\u001B[43m(\u001B[49m\u001B[43mflow\u001B[49m\u001B[43m,\u001B[49m\u001B[43m \u001B[49m\u001B[43mallow_external_references\u001B[49m\u001B[38;5;241;43m=\u001B[39;49m\u001B[43mallow_external_references\u001B[49m\u001B[43m)\u001B[49m\n\u001B[1;32m     87\u001B[0m stopped_parents: \u001B[38;5;28mset\u001B[39m[\u001B[38;5;28mstr\u001B[39m] \u001B[38;5;241m=\u001B[39m \u001B[38;5;28mset\u001B[39m()\n\u001B[1;32m     88\u001B[0m errored: \u001B[38;5;28mset\u001B[39m[\u001B[38;5;28mstr\u001B[39m] \u001B[38;5;241m=\u001B[39m \u001B[38;5;28mset\u001B[39m()\n",
      "File \u001B[0;32m~/miniconda3/envs/2025-bam-jobflow-tutorial/lib/python3.10/site-packages/jobflow/core/flow.py:903\u001B[0m, in \u001B[0;36mget_flow\u001B[0;34m(flow, allow_external_references)\u001B[0m\n\u001B[1;32m    886\u001B[0m \u001B[38;5;250m\u001B[39m\u001B[38;5;124;03m\"\"\"\u001B[39;00m\n\u001B[1;32m    887\u001B[0m \u001B[38;5;124;03mCheck dependencies and return flow object.\u001B[39;00m\n\u001B[1;32m    888\u001B[0m \n\u001B[0;32m   (...)\u001B[0m\n\u001B[1;32m    900\u001B[0m \u001B[38;5;124;03m    A :obj:`Flow` object where connections have been checked.\u001B[39;00m\n\u001B[1;32m    901\u001B[0m \u001B[38;5;124;03m\"\"\"\u001B[39;00m\n\u001B[1;32m    902\u001B[0m \u001B[38;5;28;01mif\u001B[39;00m \u001B[38;5;129;01mnot\u001B[39;00m \u001B[38;5;28misinstance\u001B[39m(flow, Flow):\n\u001B[0;32m--> 903\u001B[0m     flow \u001B[38;5;241m=\u001B[39m \u001B[43mFlow\u001B[49m\u001B[43m(\u001B[49m\u001B[43mjobs\u001B[49m\u001B[38;5;241;43m=\u001B[39;49m\u001B[43mflow\u001B[49m\u001B[43m)\u001B[49m\n\u001B[1;32m    905\u001B[0m \u001B[38;5;28;01mif\u001B[39;00m \u001B[38;5;129;01mnot\u001B[39;00m allow_external_references:\n\u001B[1;32m    906\u001B[0m     \u001B[38;5;66;03m# ensure that we have all the jobs needed to resolve the reference connections\u001B[39;00m\n\u001B[1;32m    907\u001B[0m     job_references \u001B[38;5;241m=\u001B[39m find_and_get_references(flow\u001B[38;5;241m.\u001B[39mjobs)\n",
      "File \u001B[0;32m~/miniconda3/envs/2025-bam-jobflow-tutorial/lib/python3.10/site-packages/jobflow/core/flow.py:155\u001B[0m, in \u001B[0;36mFlow.__init__\u001B[0;34m(self, jobs, output, name, order, uuid, hosts, metadata, metadata_updates)\u001B[0m\n\u001B[1;32m    152\u001B[0m \u001B[38;5;28mself\u001B[39m\u001B[38;5;241m.\u001B[39mmetadata_updates \u001B[38;5;241m=\u001B[39m metadata_updates \u001B[38;5;129;01mor\u001B[39;00m []\n\u001B[1;32m    154\u001B[0m \u001B[38;5;28mself\u001B[39m\u001B[38;5;241m.\u001B[39m_jobs: \u001B[38;5;28mtuple\u001B[39m[Flow \u001B[38;5;241m|\u001B[39m Job, \u001B[38;5;241m.\u001B[39m\u001B[38;5;241m.\u001B[39m\u001B[38;5;241m.\u001B[39m] \u001B[38;5;241m=\u001B[39m ()\n\u001B[0;32m--> 155\u001B[0m \u001B[38;5;28;43mself\u001B[39;49m\u001B[38;5;241;43m.\u001B[39;49m\u001B[43madd_jobs\u001B[49m\u001B[43m(\u001B[49m\u001B[43mjobs\u001B[49m\u001B[43m)\u001B[49m\n\u001B[1;32m    156\u001B[0m \u001B[38;5;28mself\u001B[39m\u001B[38;5;241m.\u001B[39moutput \u001B[38;5;241m=\u001B[39m output\n",
      "File \u001B[0;32m~/miniconda3/envs/2025-bam-jobflow-tutorial/lib/python3.10/site-packages/jobflow/core/flow.py:824\u001B[0m, in \u001B[0;36mFlow.add_jobs\u001B[0;34m(self, jobs)\u001B[0m\n\u001B[1;32m    822\u001B[0m \u001B[38;5;28;01mfor\u001B[39;00m job \u001B[38;5;129;01min\u001B[39;00m jobs:\n\u001B[1;32m    823\u001B[0m     \u001B[38;5;28;01mif\u001B[39;00m job\u001B[38;5;241m.\u001B[39mhost \u001B[38;5;129;01mis\u001B[39;00m \u001B[38;5;129;01mnot\u001B[39;00m \u001B[38;5;28;01mNone\u001B[39;00m \u001B[38;5;129;01mand\u001B[39;00m job\u001B[38;5;241m.\u001B[39mhost \u001B[38;5;241m!=\u001B[39m \u001B[38;5;28mself\u001B[39m\u001B[38;5;241m.\u001B[39muuid:\n\u001B[0;32m--> 824\u001B[0m         \u001B[38;5;28;01mraise\u001B[39;00m \u001B[38;5;167;01mValueError\u001B[39;00m(\n\u001B[1;32m    825\u001B[0m             \u001B[38;5;124mf\u001B[39m\u001B[38;5;124m\"\u001B[39m\u001B[38;5;132;01m{\u001B[39;00m\u001B[38;5;28mtype\u001B[39m(job)\u001B[38;5;241m.\u001B[39m\u001B[38;5;18m__name__\u001B[39m\u001B[38;5;132;01m}\u001B[39;00m\u001B[38;5;124m \u001B[39m\u001B[38;5;132;01m{\u001B[39;00mjob\u001B[38;5;241m.\u001B[39mname\u001B[38;5;132;01m}\u001B[39;00m\u001B[38;5;124m (\u001B[39m\u001B[38;5;132;01m{\u001B[39;00mjob\u001B[38;5;241m.\u001B[39muuid\u001B[38;5;132;01m}\u001B[39;00m\u001B[38;5;124m) already belongs \u001B[39m\u001B[38;5;124m\"\u001B[39m\n\u001B[1;32m    826\u001B[0m             \u001B[38;5;124mf\u001B[39m\u001B[38;5;124m\"\u001B[39m\u001B[38;5;124mto another flow.\u001B[39m\u001B[38;5;124m\"\u001B[39m\n\u001B[1;32m    827\u001B[0m         )\n\u001B[1;32m    828\u001B[0m     \u001B[38;5;28;01mif\u001B[39;00m job\u001B[38;5;241m.\u001B[39muuid \u001B[38;5;129;01min\u001B[39;00m job_ids:\n\u001B[1;32m    829\u001B[0m         \u001B[38;5;28;01mraise\u001B[39;00m \u001B[38;5;167;01mValueError\u001B[39;00m(\n\u001B[1;32m    830\u001B[0m             \u001B[38;5;124m\"\u001B[39m\u001B[38;5;124mjobs array contains multiple jobs/flows with the same uuid \u001B[39m\u001B[38;5;124m\"\u001B[39m\n\u001B[1;32m    831\u001B[0m             \u001B[38;5;124mf\u001B[39m\u001B[38;5;124m\"\u001B[39m\u001B[38;5;124m(\u001B[39m\u001B[38;5;132;01m{\u001B[39;00mjob\u001B[38;5;241m.\u001B[39muuid\u001B[38;5;132;01m}\u001B[39;00m\u001B[38;5;124m)\u001B[39m\u001B[38;5;124m\"\u001B[39m\n\u001B[1;32m    832\u001B[0m         )\n",
      "\u001B[0;31mValueError\u001B[0m: Job add (01c15117-d972-4458-b4ce-c167b7f0783a) already belongs to another flow."
     ]
    }
   ],
   "execution_count": 9
  },
  {
   "cell_type": "markdown",
   "id": "37236947-520d-4e37-a513-93a7d2bbc359",
   "metadata": {},
   "source": [
    "The above error seems quite cryptic, we will see why this happens later but in any case this happens because we tried to run this add_job twice.\n",
    "\n",
    "Where do the jobs run ? Let's see with another example:"
   ]
  },
  {
   "cell_type": "code",
   "id": "8d26ca1b-82f4-4e25-810a-bb972f591b7d",
   "metadata": {
    "ExecuteTime": {
     "end_time": "2025-07-11T06:30:50.475460Z",
     "start_time": "2025-07-11T06:30:50.450429Z"
    }
   },
   "source": [
    "from pathlib import Path\n",
    "\n",
    "@job\n",
    "def hello(name):\n",
    "    \"\"\"This job writes a hello.txt file with Hello + the name.\"\"\"\n",
    "    Path('hello.txt').write_text(f'Hello {name}')\n",
    "\n",
    "hello_david = hello('David')\n",
    "hello_john = hello('John')\n",
    "\n",
    "run_locally(hello_david)\n",
    "run_locally(hello_john)\n",
    "    "
   ],
   "outputs": [
    {
     "name": "stdout",
     "output_type": "stream",
     "text": [
      "2025-07-11 08:30:50,454 INFO Started executing jobs locally\n",
      "2025-07-11 08:30:50,455 INFO Starting job - hello (4b1850e7-56ab-4210-9eaa-abeb277cc236)\n",
      "2025-07-11 08:30:50,462 INFO Finished job - hello (4b1850e7-56ab-4210-9eaa-abeb277cc236)\n",
      "2025-07-11 08:30:50,462 INFO Finished executing jobs locally\n",
      "2025-07-11 08:30:50,463 INFO Started executing jobs locally\n",
      "2025-07-11 08:30:50,464 INFO Starting job - hello (e7af5b8a-4756-4259-8954-f7157bab8225)\n",
      "2025-07-11 08:30:50,469 INFO Finished job - hello (e7af5b8a-4756-4259-8954-f7157bab8225)\n",
      "2025-07-11 08:30:50,470 INFO Finished executing jobs locally\n"
     ]
    },
    {
     "data": {
      "text/plain": [
       "{'e7af5b8a-4756-4259-8954-f7157bab8225': {1: Response(output=None, detour=None, addition=None, replace=None, stored_data=None, stop_children=False, stop_jobflow=False, job_dir=PosixPath('/smb/jgeorge/hpc-user/PycharmProjects/2025-bam-jobflow-tutorial/BAM-jobflow-tutorial'))}}"
      ]
     },
     "execution_count": 10,
     "metadata": {},
     "output_type": "execute_result"
    }
   ],
   "execution_count": 10
  },
  {
   "cell_type": "code",
   "id": "4e44228f-b1fb-43e4-9f5c-0e9b6865be3f",
   "metadata": {
    "ExecuteTime": {
     "end_time": "2025-07-11T06:30:11.360764127Z",
     "start_time": "2025-07-11T06:28:51.855639Z"
    }
   },
   "source": [
    "!ls\n",
    "!cat hello.txt"
   ],
   "outputs": [
    {
     "name": "stdout",
     "output_type": "stream",
     "text": [
      "handson_jobflow.ipynb  hello.txt  LICENSE  README.md  requirements.txt\r\n",
      "Hello John"
     ]
    }
   ],
   "execution_count": 9
  },
  {
   "cell_type": "markdown",
   "id": "aee8912b-be38-4d1c-a225-bcf2b907a877",
   "metadata": {},
   "source": [
    "The jobs have run in same directory (the current directory) and the second job (\"hello_john\") has overwritten the file produced by the first one.\n",
    "\n",
    "<font color=\"green\">**DO**</font> use create_folders=True in run_locally. This will create one folder for each job so that there is no clash of outputs and no lost data. Note that this is of course important when jobs create files (which is almost always the case) but in some cases, they do not, as in the example above with the *add* job function."
   ]
  },
  {
   "cell_type": "code",
   "execution_count": null,
   "id": "57979475-22ae-4927-99df-f5d4f994186c",
   "metadata": {},
   "outputs": [],
   "source": [
    "hello_david = hello('David')\n",
    "hello_john = hello('John')\n",
    "\n",
    "run_locally(hello_david, create_folders=True)\n",
    "run_locally(hello_john, create_folders=True)\n",
    "    "
   ]
  },
  {
   "cell_type": "code",
   "execution_count": null,
   "id": "6b40f09d-7b80-4d6c-83ee-582fa04ecc0d",
   "metadata": {},
   "outputs": [],
   "source": [
    "!ls\n",
    "!cat hello.txt"
   ]
  },
  {
   "cell_type": "markdown",
   "id": "f524a232-ab73-4277-9473-7ee49fd1e1ff",
   "metadata": {},
   "source": [
    "You can look inside the two *job_2025-**** directories to see what's in there.\n",
    "\n",
    "Note that when you will start using Jobflow-Remote as a manager instead of the local manager (i.e. run_locally), you don't need to set anything like that as all job directories are automatically created by Jobflow-Remote. The local manager is very useful for training, testing, verifying, developing but once you are in production, you should use Jobflow-Remote."
   ]
  },
  {
   "cell_type": "markdown",
   "id": "3385a26b-d82b-4a68-a6f6-0b936245890b",
   "metadata": {},
   "source": [
    "## Creating Flows\n",
    "Flows are created easily from a list of jobs and/or flows.\n",
    "The dependencies between the different jobs and flows are automatically defined from the *OutputReference* links (output attributes of other jobs in arguments of a given job).\n",
    "The graph of jobs in a Flow can easily be visualized with matplotlib using the *draw_graph* method of the flow."
   ]
  },
  {
   "cell_type": "code",
   "id": "0a26e9ca-d849-4fbc-bace-8c82a7f1ea83",
   "metadata": {
    "ExecuteTime": {
     "end_time": "2025-07-11T06:30:57.583868Z",
     "start_time": "2025-07-11T06:30:57.007155Z"
    }
   },
   "source": [
    "from jobflow import Flow\n",
    "\n",
    "@job\n",
    "def add(a, b):\n",
    "    return a+b\n",
    "\n",
    "@job\n",
    "def multiply(a, b):\n",
    "    return a*b\n",
    "\n",
    "\n",
    "add_job1 = add(2, 3)\n",
    "add_job2 = add(3, 5)\n",
    "multiply_job = multiply(add_job1.output, add_job2.output)\n",
    "\n",
    "myflow = Flow([add_job1, add_job2, multiply_job])\n",
    "\n",
    "myflow.draw_graph().show()"
   ],
   "outputs": [
    {
     "data": {
      "text/plain": [
       "<Figure size 1200x800 with 1 Axes>"
      ],
      "image/png": "[encoded data removed]"
     },
     "metadata": {},
     "output_type": "display_data"
    }
   ],
   "execution_count": 11
  },
  {
   "cell_type": "markdown",
   "id": "677870c9-ab02-4762-b797-bd201321e46c",
   "metadata": {},
   "source": [
    "Alternatively, you can also visualize the graph using mermaid. Generate the mermaid syntax using the *to_mermaid* function and paste the output on [Mermaid Live](https://mermaid.live/)."
   ]
  },
  {
   "cell_type": "code",
   "id": "3ab50d38-de28-47d3-84cb-1c1e2e43335d",
   "metadata": {
    "ExecuteTime": {
     "end_time": "2025-07-11T06:31:10.509118Z",
     "start_time": "2025-07-11T06:31:10.505891Z"
    }
   },
   "source": [
    "from jobflow.utils.graph import to_mermaid\n",
    "print(to_mermaid(myflow))"
   ],
   "outputs": [
    {
     "name": "stdout",
     "output_type": "stream",
     "text": [
      "flowchart TD\n",
      "    8d696257-f0f4-4df2-9ad1-3f1a80424d9f(add) -->|output| 30971040-0506-470d-ad6b-b7b804cb9cfb(multiply)\n",
      "    5a6c7b9b-6e16-49ee-b278-34b7c2707612(add) -->|output| 30971040-0506-470d-ad6b-b7b804cb9cfb(multiply)\n",
      "    8d696257-f0f4-4df2-9ad1-3f1a80424d9f(add)\n",
      "    5a6c7b9b-6e16-49ee-b278-34b7c2707612(add)\n",
      "    30971040-0506-470d-ad6b-b7b804cb9cfb(multiply)\n"
     ]
    }
   ],
   "execution_count": 12
  },
  {
   "cell_type": "markdown",
   "id": "e956b200-51f3-4c4a-a415-9a6c98ff4010",
   "metadata": {},
   "source": [
    "Let's run this flow now!"
   ]
  },
  {
   "cell_type": "code",
   "id": "54ff0f0b-fd86-45db-94eb-eec162cdce85",
   "metadata": {
    "ExecuteTime": {
     "end_time": "2025-07-11T06:31:21.544956Z",
     "start_time": "2025-07-11T06:31:21.524821Z"
    }
   },
   "source": [
    "outputs = run_locally(myflow, create_folders=True)\n",
    "pprint.pprint(outputs)"
   ],
   "outputs": [
    {
     "name": "stdout",
     "output_type": "stream",
     "text": [
      "2025-07-11 08:31:21,528 INFO Started executing jobs locally\n",
      "2025-07-11 08:31:21,532 INFO Starting job - add (8d696257-f0f4-4df2-9ad1-3f1a80424d9f)\n",
      "2025-07-11 08:31:21,533 INFO Finished job - add (8d696257-f0f4-4df2-9ad1-3f1a80424d9f)\n",
      "2025-07-11 08:31:21,536 INFO Starting job - add (5a6c7b9b-6e16-49ee-b278-34b7c2707612)\n",
      "2025-07-11 08:31:21,537 INFO Finished job - add (5a6c7b9b-6e16-49ee-b278-34b7c2707612)\n",
      "2025-07-11 08:31:21,540 INFO Starting job - multiply (30971040-0506-470d-ad6b-b7b804cb9cfb)\n",
      "2025-07-11 08:31:21,541 INFO Finished job - multiply (30971040-0506-470d-ad6b-b7b804cb9cfb)\n",
      "2025-07-11 08:31:21,542 INFO Finished executing jobs locally\n",
      "{'30971040-0506-470d-ad6b-b7b804cb9cfb': {1: Response(output=40,\n",
      "                                                      detour=None,\n",
      "                                                      addition=None,\n",
      "                                                      replace=None,\n",
      "                                                      stored_data=None,\n",
      "                                                      stop_children=False,\n",
      "                                                      stop_jobflow=False,\n",
      "                                                      job_dir=PosixPath('/smb/jgeorge/hpc-user/PycharmProjects/2025-bam-jobflow-tutorial/BAM-jobflow-tutorial/job_2025-07-11-06-31-21-538156-57918'))},\n",
      " '5a6c7b9b-6e16-49ee-b278-34b7c2707612': {1: Response(output=8,\n",
      "                                                      detour=None,\n",
      "                                                      addition=None,\n",
      "                                                      replace=None,\n",
      "                                                      stored_data=None,\n",
      "                                                      stop_children=False,\n",
      "                                                      stop_jobflow=False,\n",
      "                                                      job_dir=PosixPath('/smb/jgeorge/hpc-user/PycharmProjects/2025-bam-jobflow-tutorial/BAM-jobflow-tutorial/job_2025-07-11-06-31-21-534071-51435'))},\n",
      " '8d696257-f0f4-4df2-9ad1-3f1a80424d9f': {1: Response(output=5,\n",
      "                                                      detour=None,\n",
      "                                                      addition=None,\n",
      "                                                      replace=None,\n",
      "                                                      stored_data=None,\n",
      "                                                      stop_children=False,\n",
      "                                                      stop_jobflow=False,\n",
      "                                                      job_dir=PosixPath('/smb/jgeorge/hpc-user/PycharmProjects/2025-bam-jobflow-tutorial/BAM-jobflow-tutorial/job_2025-07-11-06-31-21-529623-40202'))}}\n"
     ]
    }
   ],
   "execution_count": 13
  },
  {
   "cell_type": "markdown",
   "id": "cb53fff2-4cfc-4cb0-8b3b-abdf651753a9",
   "metadata": {},
   "source": [
    "As for the case of running single jobs, we see some logging of the jobs being executed. They are (of course ...) being executed in the correct order, i.e. multiply can only be executed after the two add jobs have finished.\n",
    "\n",
    "Try to figure out what is the final result here."
   ]
  },
  {
   "cell_type": "markdown",
   "id": "f079e9b6-149a-4736-8470-df5a68f9fb0a",
   "metadata": {},
   "source": [
    "## Dynamic workflows\n",
    "\n",
    "Jobs can create other jobs (and flows). This is done by using the *Response* object as a returned value of a job instead of \"just\" its output. In addition to an *output* argument (which should contain the output of the job), the *Response* object has other arguments used for dealing with dynamic updates of the Flow:\n",
    "- detour\n",
    "- addition\n",
    "- replace\n",
    "- ...\n",
    "\n",
    "Here we will give an example of using an *addition* or a *replace* for calculating the Fibonacci series. The Fibonacci series is a sequence of numbers where each number is the sum of the two preceding ones. It starts with 0 and 1, and the sequence goes like this:\n",
    "\n",
    "    0, 1, 1, 2, 3, 5, 8, 13, 21, 34, 55, ...\n",
    "\n",
    "The following code allows to print the Fibonacci series with a recursion method:"
   ]
  },
  {
   "cell_type": "code",
   "id": "f8c5870c-cc7e-460e-acfb-52fba24445b1",
   "metadata": {
    "ExecuteTime": {
     "end_time": "2025-07-11T06:31:56.359030Z",
     "start_time": "2025-07-11T06:31:56.354922Z"
    }
   },
   "source": [
    "def fibonacci(smaller, larger, maximum=50):\n",
    "    total = smaller + larger\n",
    "    if total > maximum:\n",
    "        print(total)\n",
    "        return\n",
    "\n",
    "    print(f'{total}, ', end=\"\")\n",
    "    return fibonacci(larger, total, maximum=maximum)\n",
    "\n",
    "fibonacci(0, 1)"
   ],
   "outputs": [
    {
     "name": "stdout",
     "output_type": "stream",
     "text": [
      "1, 2, 3, 5, 8, 13, 21, 34, 55\n"
     ]
    }
   ],
   "execution_count": 14
  },
  {
   "cell_type": "markdown",
   "id": "494c8674-727f-4450-b75f-a84e1b5bf624",
   "metadata": {},
   "source": [
    "Now let's adapt this to use a dynamic flow to compute the series of numbers:"
   ]
  },
  {
   "cell_type": "code",
   "id": "a130c858-c4c7-430b-8a31-b5e069d7b8cb",
   "metadata": {
    "scrolled": true,
    "ExecuteTime": {
     "end_time": "2025-07-11T06:32:16.972691Z",
     "start_time": "2025-07-11T06:32:16.946637Z"
    }
   },
   "source": [
    "from jobflow import Response\n",
    "\n",
    "@job\n",
    "def fibonacci(smaller, larger, maximum=50):\n",
    "    total = smaller + larger\n",
    "    if total > maximum:\n",
    "        return total\n",
    "\n",
    "    new_job = fibonacci(larger, total, maximum=maximum)\n",
    "    return Response(output=total, addition=new_job)\n",
    "\n",
    "fibonacci_job = fibonacci(0, 1)\n",
    "outputs = run_locally(fibonacci_job)"
   ],
   "outputs": [
    {
     "name": "stdout",
     "output_type": "stream",
     "text": [
      "2025-07-11 08:32:16,950 INFO Started executing jobs locally\n",
      "2025-07-11 08:32:16,951 INFO Starting job - fibonacci (df3f297b-ee9b-42b9-9c59-df6f5e0f00af)\n",
      "2025-07-11 08:32:16,952 INFO Finished job - fibonacci (df3f297b-ee9b-42b9-9c59-df6f5e0f00af)\n",
      "2025-07-11 08:32:16,953 INFO Starting job - fibonacci (d930af3f-a3f9-4f75-8fcd-cfbcd124e99a)\n",
      "2025-07-11 08:32:16,954 INFO Finished job - fibonacci (d930af3f-a3f9-4f75-8fcd-cfbcd124e99a)\n",
      "2025-07-11 08:32:16,955 INFO Starting job - fibonacci (5163bb5f-e951-4715-9d52-ed8a93d84402)\n",
      "2025-07-11 08:32:16,957 INFO Finished job - fibonacci (5163bb5f-e951-4715-9d52-ed8a93d84402)\n",
      "2025-07-11 08:32:16,958 INFO Starting job - fibonacci (e24d6f75-deff-4d73-85f1-d2e6e3c15207)\n",
      "2025-07-11 08:32:16,959 INFO Finished job - fibonacci (e24d6f75-deff-4d73-85f1-d2e6e3c15207)\n",
      "2025-07-11 08:32:16,960 INFO Starting job - fibonacci (abf96f75-99ee-432d-99d6-9610552d8520)\n",
      "2025-07-11 08:32:16,961 INFO Finished job - fibonacci (abf96f75-99ee-432d-99d6-9610552d8520)\n",
      "2025-07-11 08:32:16,961 INFO Starting job - fibonacci (50532ee4-62de-4ee4-8314-a88f5f4aeda6)\n",
      "2025-07-11 08:32:16,963 INFO Finished job - fibonacci (50532ee4-62de-4ee4-8314-a88f5f4aeda6)\n",
      "2025-07-11 08:32:16,963 INFO Starting job - fibonacci (b9165194-b716-4a18-af4e-a58038759c15)\n",
      "2025-07-11 08:32:16,965 INFO Finished job - fibonacci (b9165194-b716-4a18-af4e-a58038759c15)\n",
      "2025-07-11 08:32:16,966 INFO Starting job - fibonacci (58506396-ebd0-4963-ae9c-2acf41f99469)\n",
      "2025-07-11 08:32:16,967 INFO Finished job - fibonacci (58506396-ebd0-4963-ae9c-2acf41f99469)\n",
      "2025-07-11 08:32:16,968 INFO Starting job - fibonacci (c4d67082-a333-4184-ba26-107aacccda8c)\n",
      "2025-07-11 08:32:16,970 INFO Finished job - fibonacci (c4d67082-a333-4184-ba26-107aacccda8c)\n",
      "2025-07-11 08:32:16,970 INFO Finished executing jobs locally\n"
     ]
    }
   ],
   "execution_count": 15
  },
  {
   "cell_type": "markdown",
   "id": "733730b7-592a-40b2-af36-3984a7c235a9",
   "metadata": {},
   "source": [
    "Although there was only one job at the beginning, multiple jobs have been executed. Let's look at the outputs:"
   ]
  },
  {
   "cell_type": "code",
   "id": "6e6351e2-1996-4fb9-9916-ecdc3b1f4ac1",
   "metadata": {
    "ExecuteTime": {
     "end_time": "2025-07-11T06:32:25.535918Z",
     "start_time": "2025-07-11T06:32:25.530918Z"
    }
   },
   "source": [
    "pprint.pprint(outputs)"
   ],
   "outputs": [
    {
     "name": "stdout",
     "output_type": "stream",
     "text": [
      "{'50532ee4-62de-4ee4-8314-a88f5f4aeda6': {1: Response(output=13,\n",
      "                                                      detour=None,\n",
      "                                                      addition=Flow(name='Flow', uuid='ccc9bef8-e63a-4879-9b3b-3c2b137cfe30')\n",
      "1. Job(name='fibonacci', uuid='b9165194-b716-4a18-af4e-a58038759c15'),\n",
      "                                                      replace=None,\n",
      "                                                      stored_data=None,\n",
      "                                                      stop_children=False,\n",
      "                                                      stop_jobflow=False,\n",
      "                                                      job_dir=PosixPath('/smb/jgeorge/hpc-user/PycharmProjects/2025-bam-jobflow-tutorial/BAM-jobflow-tutorial'))},\n",
      " '5163bb5f-e951-4715-9d52-ed8a93d84402': {1: Response(output=3,\n",
      "                                                      detour=None,\n",
      "                                                      addition=Flow(name='Flow', uuid='9e373b41-dcf5-4414-b130-ed866c9c4fa5')\n",
      "1. Job(name='fibonacci', uuid='e24d6f75-deff-4d73-85f1-d2e6e3c15207'),\n",
      "                                                      replace=None,\n",
      "                                                      stored_data=None,\n",
      "                                                      stop_children=False,\n",
      "                                                      stop_jobflow=False,\n",
      "                                                      job_dir=PosixPath('/smb/jgeorge/hpc-user/PycharmProjects/2025-bam-jobflow-tutorial/BAM-jobflow-tutorial'))},\n",
      " '58506396-ebd0-4963-ae9c-2acf41f99469': {1: Response(output=34,\n",
      "                                                      detour=None,\n",
      "                                                      addition=Flow(name='Flow', uuid='21520819-5369-4ab2-883b-413e4d395dcd')\n",
      "1. Job(name='fibonacci', uuid='c4d67082-a333-4184-ba26-107aacccda8c'),\n",
      "                                                      replace=None,\n",
      "                                                      stored_data=None,\n",
      "                                                      stop_children=False,\n",
      "                                                      stop_jobflow=False,\n",
      "                                                      job_dir=PosixPath('/smb/jgeorge/hpc-user/PycharmProjects/2025-bam-jobflow-tutorial/BAM-jobflow-tutorial'))},\n",
      " 'abf96f75-99ee-432d-99d6-9610552d8520': {1: Response(output=8,\n",
      "                                                      detour=None,\n",
      "                                                      addition=Flow(name='Flow', uuid='b5385580-5904-499d-9f91-9852cbeb572e')\n",
      "1. Job(name='fibonacci', uuid='50532ee4-62de-4ee4-8314-a88f5f4aeda6'),\n",
      "                                                      replace=None,\n",
      "                                                      stored_data=None,\n",
      "                                                      stop_children=False,\n",
      "                                                      stop_jobflow=False,\n",
      "                                                      job_dir=PosixPath('/smb/jgeorge/hpc-user/PycharmProjects/2025-bam-jobflow-tutorial/BAM-jobflow-tutorial'))},\n",
      " 'b9165194-b716-4a18-af4e-a58038759c15': {1: Response(output=21,\n",
      "                                                      detour=None,\n",
      "                                                      addition=Flow(name='Flow', uuid='0dccd4cd-a5aa-4e44-b887-82518853c313')\n",
      "1. Job(name='fibonacci', uuid='58506396-ebd0-4963-ae9c-2acf41f99469'),\n",
      "                                                      replace=None,\n",
      "                                                      stored_data=None,\n",
      "                                                      stop_children=False,\n",
      "                                                      stop_jobflow=False,\n",
      "                                                      job_dir=PosixPath('/smb/jgeorge/hpc-user/PycharmProjects/2025-bam-jobflow-tutorial/BAM-jobflow-tutorial'))},\n",
      " 'c4d67082-a333-4184-ba26-107aacccda8c': {1: Response(output=55,\n",
      "                                                      detour=None,\n",
      "                                                      addition=None,\n",
      "                                                      replace=None,\n",
      "                                                      stored_data=None,\n",
      "                                                      stop_children=False,\n",
      "                                                      stop_jobflow=False,\n",
      "                                                      job_dir=PosixPath('/smb/jgeorge/hpc-user/PycharmProjects/2025-bam-jobflow-tutorial/BAM-jobflow-tutorial'))},\n",
      " 'd930af3f-a3f9-4f75-8fcd-cfbcd124e99a': {1: Response(output=2,\n",
      "                                                      detour=None,\n",
      "                                                      addition=Flow(name='Flow', uuid='4c17225b-14f1-4949-b862-9dc706a4c336')\n",
      "1. Job(name='fibonacci', uuid='5163bb5f-e951-4715-9d52-ed8a93d84402'),\n",
      "                                                      replace=None,\n",
      "                                                      stored_data=None,\n",
      "                                                      stop_children=False,\n",
      "                                                      stop_jobflow=False,\n",
      "                                                      job_dir=PosixPath('/smb/jgeorge/hpc-user/PycharmProjects/2025-bam-jobflow-tutorial/BAM-jobflow-tutorial'))},\n",
      " 'df3f297b-ee9b-42b9-9c59-df6f5e0f00af': {1: Response(output=1,\n",
      "                                                      detour=None,\n",
      "                                                      addition=Flow(name='Flow', uuid='381ebfe6-d9d5-455e-a5fe-9a1491df5637')\n",
      "1. Job(name='fibonacci', uuid='d930af3f-a3f9-4f75-8fcd-cfbcd124e99a'),\n",
      "                                                      replace=None,\n",
      "                                                      stored_data=None,\n",
      "                                                      stop_children=False,\n",
      "                                                      stop_jobflow=False,\n",
      "                                                      job_dir=PosixPath('/smb/jgeorge/hpc-user/PycharmProjects/2025-bam-jobflow-tutorial/BAM-jobflow-tutorial'))},\n",
      " 'e24d6f75-deff-4d73-85f1-d2e6e3c15207': {1: Response(output=5,\n",
      "                                                      detour=None,\n",
      "                                                      addition=Flow(name='Flow', uuid='ba4c2285-07c7-48e2-86fb-26174b8cf7aa')\n",
      "1. Job(name='fibonacci', uuid='abf96f75-99ee-432d-99d6-9610552d8520'),\n",
      "                                                      replace=None,\n",
      "                                                      stored_data=None,\n",
      "                                                      stop_children=False,\n",
      "                                                      stop_jobflow=False,\n",
      "                                                      job_dir=PosixPath('/smb/jgeorge/hpc-user/PycharmProjects/2025-bam-jobflow-tutorial/BAM-jobflow-tutorial'))}}\n"
     ]
    }
   ],
   "execution_count": 16
  },
  {
   "cell_type": "markdown",
   "id": "06b2b31e-976c-4e0f-aaaf-dc3e7c12d052",
   "metadata": {},
   "source": [
    "Difficult to know the order of the jobs and get back the series... Each job that sums two numbers has its own uuid and these are not ordered. Let's modify things a bit:"
   ]
  },
  {
   "cell_type": "code",
   "id": "25ba51a2-48b4-493e-9e3f-046c52a66ba3",
   "metadata": {
    "ExecuteTime": {
     "end_time": "2025-07-11T06:34:07.083613Z",
     "start_time": "2025-07-11T06:34:07.053524Z"
    }
   },
   "source": [
    "from jobflow import Response\n",
    "\n",
    "@job\n",
    "def fibonacci(smaller, larger, index=0, maximum=50):\n",
    "    total = smaller + larger\n",
    "    if total > maximum:\n",
    "        return {\"index\": index, \"number\": total}\n",
    "\n",
    "    new_job = fibonacci(larger, total, index=index+1, maximum=maximum)\n",
    "    return Response(output={\"index\": index, \"number\": total}, addition=new_job)\n",
    "\n",
    "fibonacci_job = fibonacci(0, 1)\n",
    "outputs = run_locally(fibonacci_job)\n",
    "pprint.pprint(outputs)"
   ],
   "outputs": [
    {
     "name": "stdout",
     "output_type": "stream",
     "text": [
      "2025-07-11 08:34:07,058 INFO Started executing jobs locally\n",
      "2025-07-11 08:34:07,059 INFO Starting job - fibonacci (52e95c28-8ec4-40de-a892-e4f2c4aa423a)\n",
      "2025-07-11 08:34:07,060 INFO Finished job - fibonacci (52e95c28-8ec4-40de-a892-e4f2c4aa423a)\n",
      "2025-07-11 08:34:07,061 INFO Starting job - fibonacci (6b72c6f8-bb9d-449b-a161-ad86c98e867d)\n",
      "2025-07-11 08:34:07,063 INFO Finished job - fibonacci (6b72c6f8-bb9d-449b-a161-ad86c98e867d)\n",
      "2025-07-11 08:34:07,064 INFO Starting job - fibonacci (5c67d72c-36af-441b-bb6c-2d3c22a9e1b7)\n",
      "2025-07-11 08:34:07,065 INFO Finished job - fibonacci (5c67d72c-36af-441b-bb6c-2d3c22a9e1b7)\n",
      "2025-07-11 08:34:07,066 INFO Starting job - fibonacci (57f3ded3-ed9d-4460-8dbd-e3c4fc2b699f)\n",
      "2025-07-11 08:34:07,067 INFO Finished job - fibonacci (57f3ded3-ed9d-4460-8dbd-e3c4fc2b699f)\n",
      "2025-07-11 08:34:07,068 INFO Starting job - fibonacci (da8ecad0-9fd2-4117-91a3-c5232b076abd)\n",
      "2025-07-11 08:34:07,069 INFO Finished job - fibonacci (da8ecad0-9fd2-4117-91a3-c5232b076abd)\n",
      "2025-07-11 08:34:07,069 INFO Starting job - fibonacci (bd070d15-0341-45bd-a381-0c3efd7d3efe)\n",
      "2025-07-11 08:34:07,070 INFO Finished job - fibonacci (bd070d15-0341-45bd-a381-0c3efd7d3efe)\n",
      "2025-07-11 08:34:07,071 INFO Starting job - fibonacci (b3448a57-e792-4daf-a4cf-f6deb21b9d6a)\n",
      "2025-07-11 08:34:07,072 INFO Finished job - fibonacci (b3448a57-e792-4daf-a4cf-f6deb21b9d6a)\n",
      "2025-07-11 08:34:07,074 INFO Starting job - fibonacci (0738671f-f8ad-4b68-b813-91ffaf2c6e96)\n",
      "2025-07-11 08:34:07,078 INFO Finished job - fibonacci (0738671f-f8ad-4b68-b813-91ffaf2c6e96)\n",
      "2025-07-11 08:34:07,078 INFO Starting job - fibonacci (2496e2fc-b64a-4335-bb76-a69112fdc124)\n",
      "2025-07-11 08:34:07,079 INFO Finished job - fibonacci (2496e2fc-b64a-4335-bb76-a69112fdc124)\n",
      "2025-07-11 08:34:07,080 INFO Finished executing jobs locally\n",
      "{'0738671f-f8ad-4b68-b813-91ffaf2c6e96': {1: Response(output={'index': 7,\n",
      "                                                              'number': 34},\n",
      "                                                      detour=None,\n",
      "                                                      addition=Flow(name='Flow', uuid='120c3fb5-3007-4efc-90e8-a007fa65f470')\n",
      "1. Job(name='fibonacci', uuid='2496e2fc-b64a-4335-bb76-a69112fdc124'),\n",
      "                                                      replace=None,\n",
      "                                                      stored_data=None,\n",
      "                                                      stop_children=False,\n",
      "                                                      stop_jobflow=False,\n",
      "                                                      job_dir=PosixPath('/smb/jgeorge/hpc-user/PycharmProjects/2025-bam-jobflow-tutorial/BAM-jobflow-tutorial'))},\n",
      " '2496e2fc-b64a-4335-bb76-a69112fdc124': {1: Response(output={'index': 8,\n",
      "                                                              'number': 55},\n",
      "                                                      detour=None,\n",
      "                                                      addition=None,\n",
      "                                                      replace=None,\n",
      "                                                      stored_data=None,\n",
      "                                                      stop_children=False,\n",
      "                                                      stop_jobflow=False,\n",
      "                                                      job_dir=PosixPath('/smb/jgeorge/hpc-user/PycharmProjects/2025-bam-jobflow-tutorial/BAM-jobflow-tutorial'))},\n",
      " '52e95c28-8ec4-40de-a892-e4f2c4aa423a': {1: Response(output={'index': 0,\n",
      "                                                              'number': 1},\n",
      "                                                      detour=None,\n",
      "                                                      addition=Flow(name='Flow', uuid='c87164c4-b42d-444f-848e-7a6f06b2e774')\n",
      "1. Job(name='fibonacci', uuid='6b72c6f8-bb9d-449b-a161-ad86c98e867d'),\n",
      "                                                      replace=None,\n",
      "                                                      stored_data=None,\n",
      "                                                      stop_children=False,\n",
      "                                                      stop_jobflow=False,\n",
      "                                                      job_dir=PosixPath('/smb/jgeorge/hpc-user/PycharmProjects/2025-bam-jobflow-tutorial/BAM-jobflow-tutorial'))},\n",
      " '57f3ded3-ed9d-4460-8dbd-e3c4fc2b699f': {1: Response(output={'index': 3,\n",
      "                                                              'number': 5},\n",
      "                                                      detour=None,\n",
      "                                                      addition=Flow(name='Flow', uuid='e7ce0d68-cd2d-4808-a0f5-14df13baba88')\n",
      "1. Job(name='fibonacci', uuid='da8ecad0-9fd2-4117-91a3-c5232b076abd'),\n",
      "                                                      replace=None,\n",
      "                                                      stored_data=None,\n",
      "                                                      stop_children=False,\n",
      "                                                      stop_jobflow=False,\n",
      "                                                      job_dir=PosixPath('/smb/jgeorge/hpc-user/PycharmProjects/2025-bam-jobflow-tutorial/BAM-jobflow-tutorial'))},\n",
      " '5c67d72c-36af-441b-bb6c-2d3c22a9e1b7': {1: Response(output={'index': 2,\n",
      "                                                              'number': 3},\n",
      "                                                      detour=None,\n",
      "                                                      addition=Flow(name='Flow', uuid='37a99030-bb5c-4397-8e4d-88351f647468')\n",
      "1. Job(name='fibonacci', uuid='57f3ded3-ed9d-4460-8dbd-e3c4fc2b699f'),\n",
      "                                                      replace=None,\n",
      "                                                      stored_data=None,\n",
      "                                                      stop_children=False,\n",
      "                                                      stop_jobflow=False,\n",
      "                                                      job_dir=PosixPath('/smb/jgeorge/hpc-user/PycharmProjects/2025-bam-jobflow-tutorial/BAM-jobflow-tutorial'))},\n",
      " '6b72c6f8-bb9d-449b-a161-ad86c98e867d': {1: Response(output={'index': 1,\n",
      "                                                              'number': 2},\n",
      "                                                      detour=None,\n",
      "                                                      addition=Flow(name='Flow', uuid='c2c4b4f8-4ae6-46c7-9b66-56e66cb97381')\n",
      "1. Job(name='fibonacci', uuid='5c67d72c-36af-441b-bb6c-2d3c22a9e1b7'),\n",
      "                                                      replace=None,\n",
      "                                                      stored_data=None,\n",
      "                                                      stop_children=False,\n",
      "                                                      stop_jobflow=False,\n",
      "                                                      job_dir=PosixPath('/smb/jgeorge/hpc-user/PycharmProjects/2025-bam-jobflow-tutorial/BAM-jobflow-tutorial'))},\n",
      " 'b3448a57-e792-4daf-a4cf-f6deb21b9d6a': {1: Response(output={'index': 6,\n",
      "                                                              'number': 21},\n",
      "                                                      detour=None,\n",
      "                                                      addition=Flow(name='Flow', uuid='cbd73673-e4ab-41e2-a08b-db6cb9831d69')\n",
      "1. Job(name='fibonacci', uuid='0738671f-f8ad-4b68-b813-91ffaf2c6e96'),\n",
      "                                                      replace=None,\n",
      "                                                      stored_data=None,\n",
      "                                                      stop_children=False,\n",
      "                                                      stop_jobflow=False,\n",
      "                                                      job_dir=PosixPath('/smb/jgeorge/hpc-user/PycharmProjects/2025-bam-jobflow-tutorial/BAM-jobflow-tutorial'))},\n",
      " 'bd070d15-0341-45bd-a381-0c3efd7d3efe': {1: Response(output={'index': 5,\n",
      "                                                              'number': 13},\n",
      "                                                      detour=None,\n",
      "                                                      addition=Flow(name='Flow', uuid='a6f61e59-fd14-4a42-9e82-4a411987e743')\n",
      "1. Job(name='fibonacci', uuid='b3448a57-e792-4daf-a4cf-f6deb21b9d6a'),\n",
      "                                                      replace=None,\n",
      "                                                      stored_data=None,\n",
      "                                                      stop_children=False,\n",
      "                                                      stop_jobflow=False,\n",
      "                                                      job_dir=PosixPath('/smb/jgeorge/hpc-user/PycharmProjects/2025-bam-jobflow-tutorial/BAM-jobflow-tutorial'))},\n",
      " 'da8ecad0-9fd2-4117-91a3-c5232b076abd': {1: Response(output={'index': 4,\n",
      "                                                              'number': 8},\n",
      "                                                      detour=None,\n",
      "                                                      addition=Flow(name='Flow', uuid='d7f63e12-6786-4309-b823-db004c082c60')\n",
      "1. Job(name='fibonacci', uuid='bd070d15-0341-45bd-a381-0c3efd7d3efe'),\n",
      "                                                      replace=None,\n",
      "                                                      stored_data=None,\n",
      "                                                      stop_children=False,\n",
      "                                                      stop_jobflow=False,\n",
      "                                                      job_dir=PosixPath('/smb/jgeorge/hpc-user/PycharmProjects/2025-bam-jobflow-tutorial/BAM-jobflow-tutorial'))}}\n"
     ]
    }
   ],
   "execution_count": 17
  },
  {
   "cell_type": "markdown",
   "id": "396ff151-e7f5-4f44-93e3-1244cfb89ae8",
   "metadata": {},
   "source": [
    "Now at least we can go through it in an ordered manner:"
   ]
  },
  {
   "cell_type": "code",
   "id": "186d1a5c-8d22-4581-a434-504955c41def",
   "metadata": {
    "ExecuteTime": {
     "end_time": "2025-07-11T06:34:17.383759Z",
     "start_time": "2025-07-11T06:34:17.380335Z"
    }
   },
   "source": [
    "for jobs_with_same_uuid in sorted(outputs.items(), key=lambda kv: kv[1][1].output['index']):\n",
    "    print(jobs_with_same_uuid[1][1].output['number'])"
   ],
   "outputs": [
    {
     "name": "stdout",
     "output_type": "stream",
     "text": [
      "1\n",
      "2\n",
      "3\n",
      "5\n",
      "8\n",
      "13\n",
      "21\n",
      "34\n",
      "55\n"
     ]
    }
   ],
   "execution_count": 18
  },
  {
   "cell_type": "markdown",
   "id": "5a2a2906-4ac9-4154-9c68-d9a53eb67939",
   "metadata": {},
   "source": [
    "Instead of using an *addition*, we can also use a *replace*, and now the index of the jobs increases but all jobs have the same uuid."
   ]
  },
  {
   "cell_type": "code",
   "id": "203185f6-f22b-48ce-8bd5-04c7821f03c8",
   "metadata": {
    "ExecuteTime": {
     "end_time": "2025-07-11T06:34:34.727195Z",
     "start_time": "2025-07-11T06:34:34.702589Z"
    }
   },
   "source": [
    "from jobflow import Response\n",
    "\n",
    "@job\n",
    "def fibonacci(smaller, larger, maximum=50):\n",
    "    total = smaller + larger\n",
    "    if total > maximum:\n",
    "        return total\n",
    "\n",
    "    new_job = fibonacci(larger, total, maximum=maximum)\n",
    "    return Response(output=total, replace=new_job)\n",
    "\n",
    "fibonacci_job = fibonacci(0, 1)\n",
    "outputs = run_locally(fibonacci_job)\n",
    "pprint.pprint(outputs)"
   ],
   "outputs": [
    {
     "name": "stdout",
     "output_type": "stream",
     "text": [
      "2025-07-11 08:34:34,706 INFO Started executing jobs locally\n",
      "2025-07-11 08:34:34,708 INFO Starting job - fibonacci (b9166c54-c5b9-401f-a3ea-5cda43983f8d)\n",
      "2025-07-11 08:34:34,709 INFO Finished job - fibonacci (b9166c54-c5b9-401f-a3ea-5cda43983f8d)\n",
      "2025-07-11 08:34:34,709 INFO Starting job - fibonacci (b9166c54-c5b9-401f-a3ea-5cda43983f8d, 2)\n",
      "2025-07-11 08:34:34,710 INFO Finished job - fibonacci (b9166c54-c5b9-401f-a3ea-5cda43983f8d, 2)\n",
      "2025-07-11 08:34:34,711 INFO Starting job - fibonacci (b9166c54-c5b9-401f-a3ea-5cda43983f8d, 3)\n",
      "2025-07-11 08:34:34,711 INFO Finished job - fibonacci (b9166c54-c5b9-401f-a3ea-5cda43983f8d, 3)\n",
      "2025-07-11 08:34:34,712 INFO Starting job - fibonacci (b9166c54-c5b9-401f-a3ea-5cda43983f8d, 4)\n",
      "2025-07-11 08:34:34,713 INFO Finished job - fibonacci (b9166c54-c5b9-401f-a3ea-5cda43983f8d, 4)\n",
      "2025-07-11 08:34:34,713 INFO Starting job - fibonacci (b9166c54-c5b9-401f-a3ea-5cda43983f8d, 5)\n",
      "2025-07-11 08:34:34,715 INFO Finished job - fibonacci (b9166c54-c5b9-401f-a3ea-5cda43983f8d, 5)\n",
      "2025-07-11 08:34:34,716 INFO Starting job - fibonacci (b9166c54-c5b9-401f-a3ea-5cda43983f8d, 6)\n",
      "2025-07-11 08:34:34,717 INFO Finished job - fibonacci (b9166c54-c5b9-401f-a3ea-5cda43983f8d, 6)\n",
      "2025-07-11 08:34:34,717 INFO Starting job - fibonacci (b9166c54-c5b9-401f-a3ea-5cda43983f8d, 7)\n",
      "2025-07-11 08:34:34,718 INFO Finished job - fibonacci (b9166c54-c5b9-401f-a3ea-5cda43983f8d, 7)\n",
      "2025-07-11 08:34:34,719 INFO Starting job - fibonacci (b9166c54-c5b9-401f-a3ea-5cda43983f8d, 8)\n",
      "2025-07-11 08:34:34,720 INFO Finished job - fibonacci (b9166c54-c5b9-401f-a3ea-5cda43983f8d, 8)\n",
      "2025-07-11 08:34:34,721 INFO Starting job - fibonacci (b9166c54-c5b9-401f-a3ea-5cda43983f8d, 9)\n",
      "2025-07-11 08:34:34,721 INFO Finished job - fibonacci (b9166c54-c5b9-401f-a3ea-5cda43983f8d, 9)\n",
      "2025-07-11 08:34:34,722 INFO Finished executing jobs locally\n",
      "{'b9166c54-c5b9-401f-a3ea-5cda43983f8d': {1: Response(output=1,\n",
      "                                                      detour=None,\n",
      "                                                      addition=None,\n",
      "                                                      replace=Flow(name='Flow', uuid='b0e74a1f-1792-413d-8000-7e8b22ad3fe7')\n",
      "1. Job(name='fibonacci', uuid='b9166c54-c5b9-401f-a3ea-5cda43983f8d'),\n",
      "                                                      stored_data=None,\n",
      "                                                      stop_children=False,\n",
      "                                                      stop_jobflow=False,\n",
      "                                                      job_dir=PosixPath('/smb/jgeorge/hpc-user/PycharmProjects/2025-bam-jobflow-tutorial/BAM-jobflow-tutorial')),\n",
      "                                          2: Response(output=2,\n",
      "                                                      detour=None,\n",
      "                                                      addition=None,\n",
      "                                                      replace=Flow(name='Flow', uuid='ad5602ec-1113-45cc-b883-7adf8f6b3eca')\n",
      "1. Job(name='fibonacci', uuid='b9166c54-c5b9-401f-a3ea-5cda43983f8d'),\n",
      "                                                      stored_data=None,\n",
      "                                                      stop_children=False,\n",
      "                                                      stop_jobflow=False,\n",
      "                                                      job_dir=PosixPath('/smb/jgeorge/hpc-user/PycharmProjects/2025-bam-jobflow-tutorial/BAM-jobflow-tutorial')),\n",
      "                                          3: Response(output=3,\n",
      "                                                      detour=None,\n",
      "                                                      addition=None,\n",
      "                                                      replace=Flow(name='Flow', uuid='46ad7c66-1365-40c9-99dc-1a87a3164abf')\n",
      "1. Job(name='fibonacci', uuid='b9166c54-c5b9-401f-a3ea-5cda43983f8d'),\n",
      "                                                      stored_data=None,\n",
      "                                                      stop_children=False,\n",
      "                                                      stop_jobflow=False,\n",
      "                                                      job_dir=PosixPath('/smb/jgeorge/hpc-user/PycharmProjects/2025-bam-jobflow-tutorial/BAM-jobflow-tutorial')),\n",
      "                                          4: Response(output=5,\n",
      "                                                      detour=None,\n",
      "                                                      addition=None,\n",
      "                                                      replace=Flow(name='Flow', uuid='36931ba7-e226-4478-8179-73870c214942')\n",
      "1. Job(name='fibonacci', uuid='b9166c54-c5b9-401f-a3ea-5cda43983f8d'),\n",
      "                                                      stored_data=None,\n",
      "                                                      stop_children=False,\n",
      "                                                      stop_jobflow=False,\n",
      "                                                      job_dir=PosixPath('/smb/jgeorge/hpc-user/PycharmProjects/2025-bam-jobflow-tutorial/BAM-jobflow-tutorial')),\n",
      "                                          5: Response(output=8,\n",
      "                                                      detour=None,\n",
      "                                                      addition=None,\n",
      "                                                      replace=Flow(name='Flow', uuid='a36f4a76-aa48-46ae-8204-2beb5041e0f6')\n",
      "1. Job(name='fibonacci', uuid='b9166c54-c5b9-401f-a3ea-5cda43983f8d'),\n",
      "                                                      stored_data=None,\n",
      "                                                      stop_children=False,\n",
      "                                                      stop_jobflow=False,\n",
      "                                                      job_dir=PosixPath('/smb/jgeorge/hpc-user/PycharmProjects/2025-bam-jobflow-tutorial/BAM-jobflow-tutorial')),\n",
      "                                          6: Response(output=13,\n",
      "                                                      detour=None,\n",
      "                                                      addition=None,\n",
      "                                                      replace=Flow(name='Flow', uuid='0d55d057-7179-466e-85ce-0b345136297c')\n",
      "1. Job(name='fibonacci', uuid='b9166c54-c5b9-401f-a3ea-5cda43983f8d'),\n",
      "                                                      stored_data=None,\n",
      "                                                      stop_children=False,\n",
      "                                                      stop_jobflow=False,\n",
      "                                                      job_dir=PosixPath('/smb/jgeorge/hpc-user/PycharmProjects/2025-bam-jobflow-tutorial/BAM-jobflow-tutorial')),\n",
      "                                          7: Response(output=21,\n",
      "                                                      detour=None,\n",
      "                                                      addition=None,\n",
      "                                                      replace=Flow(name='Flow', uuid='b5ba318d-bd37-4173-b9ab-9178c3ca4b52')\n",
      "1. Job(name='fibonacci', uuid='b9166c54-c5b9-401f-a3ea-5cda43983f8d'),\n",
      "                                                      stored_data=None,\n",
      "                                                      stop_children=False,\n",
      "                                                      stop_jobflow=False,\n",
      "                                                      job_dir=PosixPath('/smb/jgeorge/hpc-user/PycharmProjects/2025-bam-jobflow-tutorial/BAM-jobflow-tutorial')),\n",
      "                                          8: Response(output=34,\n",
      "                                                      detour=None,\n",
      "                                                      addition=None,\n",
      "                                                      replace=Flow(name='Flow', uuid='0caf6865-cbc1-4788-9541-420693369dc7')\n",
      "1. Job(name='fibonacci', uuid='b9166c54-c5b9-401f-a3ea-5cda43983f8d'),\n",
      "                                                      stored_data=None,\n",
      "                                                      stop_children=False,\n",
      "                                                      stop_jobflow=False,\n",
      "                                                      job_dir=PosixPath('/smb/jgeorge/hpc-user/PycharmProjects/2025-bam-jobflow-tutorial/BAM-jobflow-tutorial')),\n",
      "                                          9: Response(output=55,\n",
      "                                                      detour=None,\n",
      "                                                      addition=None,\n",
      "                                                      replace=None,\n",
      "                                                      stored_data=None,\n",
      "                                                      stop_children=False,\n",
      "                                                      stop_jobflow=False,\n",
      "                                                      job_dir=PosixPath('/smb/jgeorge/hpc-user/PycharmProjects/2025-bam-jobflow-tutorial/BAM-jobflow-tutorial'))}}\n"
     ]
    }
   ],
   "execution_count": 19
  },
  {
   "cell_type": "markdown",
   "id": "0e0f4a7a-e469-46ef-b846-e3db6be299aa",
   "metadata": {},
   "source": [
    "## The concept of Makers\n",
    "\n",
    "The general concept of Makers in jobflow is to define \"global\" or \"general\" parameters of the procedure/flow/workflow that will be applied to all the calculations and separate these from the specific parameters for each calculation. For example, you might consider that the accuracy, the k-point density and the exchange-correlation functional are general parameters, while the structure, the charge, maybe some atoms or cells constraints are specific parameters. This concept is very important and allows to ensure reproducibility of calculations. You can share makers (makers are *serializable* and can be dumped as a json file) with other users/colleagues so that everyone uses the exact same general parameters.\n",
    "\n",
    "Let's look at this concept for a very simplified toy example. Let's define \"something\" that increments a number. The goal is to have a job that, when given a number, will increment this number by a given amount and return the result. You could imagine that the increment amount is a general parameter (i.e. everytime you pass a number, you want to increment it by 10), and the number itself is the specific parameter."
   ]
  },
  {
   "cell_type": "code",
   "execution_count": null,
   "id": "5af30168-c01c-433e-b8ac-f7d96ba4068c",
   "metadata": {},
   "outputs": [],
   "source": [
    "from dataclasses import dataclass\n",
    "from jobflow import Maker\n",
    "\n",
    "@dataclass\n",
    "class IncrementMaker(Maker):\n",
    "    name: str = \"increment\"\n",
    "    increment: int = 1\n",
    "\n",
    "    @job\n",
    "    def make(self, number):\n",
    "        return number + self.increment"
   ]
  },
  {
   "cell_type": "markdown",
   "id": "801c7207-bf74-44a7-8713-e9e56663cd3b",
   "metadata": {},
   "source": [
    "Now you can initialize this increment maker (with the default value of 1 for the increment) and generate different jobs with it."
   ]
  },
  {
   "cell_type": "code",
   "execution_count": null,
   "id": "13130559-ba2d-4094-baa4-bddfa3c869f0",
   "metadata": {},
   "outputs": [],
   "source": [
    "increment_maker_1 = IncrementMaker()  # Will use the default value of 1 for the increment\n",
    "job1 = increment_maker_1.make(5)      # Will be incremented by 1 => 6\n",
    "job2 = increment_maker_1.make(12)      # Will be incremented by 1 => 13\n",
    "job3 = increment_maker_1.make(500)      # Will be incremented by 1 => 501\n",
    "\n",
    "pprint.pprint(run_locally(job1))\n",
    "pprint.pprint(run_locally(job2))\n",
    "pprint.pprint(run_locally(job3))"
   ]
  },
  {
   "cell_type": "markdown",
   "id": "7c40f7a3-924e-46cf-b0bf-110b0f1fe118",
   "metadata": {},
   "source": [
    "We can initialize the maker with a different value for the increment amount:"
   ]
  },
  {
   "cell_type": "code",
   "execution_count": null,
   "id": "32265dd7-0e4d-4fdb-921a-e3256078a1c3",
   "metadata": {},
   "outputs": [],
   "source": [
    "increment_maker_5 = IncrementMaker(increment=5)  # Will use the default value of 1 for the increment\n",
    "job1 = increment_maker_5.make(5)        # Will be incremented by 5 => 10\n",
    "job2 = increment_maker_5.make(12)       # Will be incremented by 5 => 17\n",
    "job3 = increment_maker_5.make(500)      # Will be incremented by 5 => 505\n",
    "\n",
    "pprint.pprint(run_locally(job1))\n",
    "pprint.pprint(run_locally(job2))\n",
    "pprint.pprint(run_locally(job3))"
   ]
  },
  {
   "cell_type": "markdown",
   "id": "702af4ba-76d9-4557-88a4-b8d80f3e59dc",
   "metadata": {},
   "source": [
    "You can pretty print makers:"
   ]
  },
  {
   "cell_type": "code",
   "execution_count": null,
   "id": "70dac275-1bb3-4ee8-a248-5fa42e0c1431",
   "metadata": {},
   "outputs": [],
   "source": [
    "print(increment_maker_1)\n",
    "print(increment_maker_5)"
   ]
  },
  {
   "cell_type": "markdown",
   "id": "7255b926-21ef-4259-a003-9c345a1ddaf6",
   "metadata": {},
   "source": [
    "You can easily dump these makers to a json file and share them with colleagues (or store them for later reuse). Note here that this will work if the implemented maker is importable! If you implement a Maker in a script and serialize/dump it to a file, it can only be recreated if the actual Maker code is also importable on the machine where you would deserialize it. Within this notebook session, this will work as the code is still in memory but when you use Jobflow-Remote, this won't work anymore! It will of course work for atomate2 Makers as these are importable both locally (i.e. within this notebook) and anywhere else you would have atomate2 installed. \\[see Jobflow-Remote and atomate2 hands-ons for more details\\]\n",
    "\n",
    "For convenience, we use *dumpfn* from the *monty* package to do so:"
   ]
  },
  {
   "cell_type": "code",
   "execution_count": null,
   "id": "68ba507f-ce80-4c4f-a3ca-c28f37fa0a44",
   "metadata": {},
   "outputs": [],
   "source": [
    "from monty.serialization import dumpfn\n",
    "\n",
    "dumpfn(increment_maker_1, 'maker_1.json', indent=2)  # here we use indent=2 to have a json file that is pretty printed\n",
    "dumpfn(increment_maker_5, 'maker_5.json', indent=2)  # here we use indent=2 to have a json file that is pretty printed"
   ]
  },
  {
   "cell_type": "markdown",
   "id": "ad446748-e080-48e9-ac3d-422cb5fbe3b9",
   "metadata": {},
   "source": [
    "You can look at the generated files to see what's in there.\n",
    "\n",
    "Let's deserialize one of them (we use the *loadfn* helper function from *monty* for that) and recreate a few jobs:"
   ]
  },
  {
   "cell_type": "code",
   "execution_count": null,
   "id": "42331d51-2681-4165-87ef-49537ba6f07b",
   "metadata": {},
   "outputs": [],
   "source": [
    "from monty.serialization import loadfn\n",
    "\n",
    "some_maker = loadfn('maker_5.json')\n",
    "job1 = some_maker.make(15)\n",
    "job2 = some_maker.make(30)\n",
    "\n",
    "pprint.pprint(run_locally(job1))\n",
    "pprint.pprint(run_locally(job2))"
   ]
  },
  {
   "cell_type": "markdown",
   "id": "6c4e6c87-df6b-4a28-8efe-1487a6cfc9a4",
   "metadata": {},
   "source": [
    "## Accessing results using queries\n",
    "\n",
    "Until now, the default store has been used for run_locally, i.e. a MemoryStore. Once run_locally has finished its execution, it does not exist anymore and you can't access the results anymore (unless you have assigned to an outputs variable for example). Now we will use a predefined store for running some calculations and see how we can access the outputs programmatically directly from the database.\n",
    "\n",
    "First, we initialize the JobStore. A pre-configured store can be instantiated from a file. Note that this is only used in this first hands-on. Please note that in subsequent hands-ons and in production, the store is defined in the jobflow-remote config directly and we strongly advice you to use such a setup for production."
   ]
  },
  {
   "cell_type": "code",
   "execution_count": null,
   "id": "cee2b97d-cb16-4859-a79e-4a38cb367b3f",
   "metadata": {},
   "outputs": [],
   "source": [
    "from jobflow import JobStore\n",
    "store = JobStore.from_file('config/my_store.yaml')\n",
    "\n",
    "# Must connect to the store before being able to use\n",
    "store.connect()\n",
    "# Let's erase the database first (comment if you want to keep)\n",
    "store.remove_docs({})"
   ]
  },
  {
   "cell_type": "markdown",
   "id": "51ea669c-8886-40c7-9e77-5004a9fc0a98",
   "metadata": {
    "jp-MarkdownHeadingCollapsed": true
   },
   "source": [
    "Let's recreate a fibonnacci job and run it locally with this store."
   ]
  },
  {
   "cell_type": "code",
   "execution_count": null,
   "id": "d7889a36-f063-452f-a135-eb6c7898d166",
   "metadata": {},
   "outputs": [],
   "source": [
    "fibonacci_job = fibonacci(0, 1)\n",
    "run_locally(fibonacci_job, store=store)"
   ]
  },
  {
   "cell_type": "markdown",
   "id": "48242007-a0a9-4f97-833a-a2a8eb6440a7",
   "metadata": {
    "jp-MarkdownHeadingCollapsed": true
   },
   "source": [
    "Now we can get the outputs directly from that store. We can see how many job outputs are stored. Let's also have a look at one (random) output."
   ]
  },
  {
   "cell_type": "code",
   "execution_count": null,
   "id": "0e318b27-2b95-4eee-bfd5-afb59ece1e8c",
   "metadata": {},
   "outputs": [],
   "source": [
    "print(store.count())\n",
    "pprint.pprint(store.query_one())"
   ]
  },
  {
   "cell_type": "markdown",
   "id": "086dd010-67a9-4e51-ab73-498d0b6bb7e3",
   "metadata": {
    "jp-MarkdownHeadingCollapsed": true
   },
   "source": [
    "We can get all the numbers from the fibonacci series:"
   ]
  },
  {
   "cell_type": "code",
   "execution_count": null,
   "id": "d0e6ca7b-9307-4380-be54-7e3623629dc1",
   "metadata": {},
   "outputs": [],
   "source": [
    "for doc in store.query():\n",
    "    print(doc['output'])"
   ]
  },
  {
   "cell_type": "markdown",
   "id": "fd90adf4-c989-4612-b8d7-5523a3d24dbf",
   "metadata": {
    "jp-MarkdownHeadingCollapsed": true
   },
   "source": [
    "Let's make another double add and multiply flow as in the beginning of this session:"
   ]
  },
  {
   "cell_type": "code",
   "execution_count": null,
   "id": "830c05fe-1a75-493a-8ee1-dca93c3ce123",
   "metadata": {},
   "outputs": [],
   "source": [
    "add_job1 = add(1, 2)\n",
    "add_job2 = add(3, 3)\n",
    "multiply_job = multiply(add_job1.output, add_job2.output)\n",
    "\n",
    "myflow = Flow([add_job1, add_job2, multiply_job])\n",
    "run_locally(myflow, store=store)"
   ]
  },
  {
   "cell_type": "markdown",
   "id": "b0db8747-59cb-4cfa-b793-c170fa034b4b",
   "metadata": {
    "jp-MarkdownHeadingCollapsed": true
   },
   "source": [
    "Now the three outputs are in the store as well. We can get the result of the multiply job with a query."
   ]
  },
  {
   "cell_type": "code",
   "execution_count": null,
   "id": "fc01d73d-6ef5-4dee-88c3-32b540124a90",
   "metadata": {},
   "outputs": [],
   "source": [
    "print(store.count())\n",
    "print(\"Result of the multiplication: \", store.query_one({\"name\": \"multiply\"})[\"output\"])"
   ]
  }
 ],
 "metadata": {
  "kernelspec": {
   "display_name": "Python 3 (ipykernel)",
   "language": "python",
   "name": "python3"
  },
  "language_info": {
   "codemirror_mode": {
    "name": "ipython",
    "version": 3
   },
   "file_extension": ".py",
   "mimetype": "text/x-python",
   "name": "python",
   "nbconvert_exporter": "python",
   "pygments_lexer": "ipython3",
   "version": "3.12.9"
  }
 },
 "nbformat": 4,
 "nbformat_minor": 5
}
